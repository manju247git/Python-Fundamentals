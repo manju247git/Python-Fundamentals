{
 "cells": [
  {
   "cell_type": "code",
   "execution_count": 21,
   "id": "8ae1b446-bb9d-4001-af7b-6fc04a6919e8",
   "metadata": {},
   "outputs": [
    {
     "ename": "SyntaxError",
     "evalue": "invalid syntax (3170546303.py, line 1)",
     "output_type": "error",
     "traceback": [
      "\u001b[1;36m  Cell \u001b[1;32mIn[21], line 1\u001b[1;36m\u001b[0m\n\u001b[1;33m    first name = 'Manjula'\u001b[0m\n\u001b[1;37m          ^\u001b[0m\n\u001b[1;31mSyntaxError\u001b[0m\u001b[1;31m:\u001b[0m invalid syntax\n"
     ]
    }
   ],
   "source": [
    "first name = 'Manjula'\n",
    "print(first name)"
   ]
  },
  {
   "cell_type": "code",
   "execution_count": 8,
   "id": "a54dabde-3dd8-4806-928f-b0397a3840fb",
   "metadata": {},
   "outputs": [
    {
     "name": "stdout",
     "output_type": "stream",
     "text": [
      "Manjula\n"
     ]
    }
   ],
   "source": [
    "firstname = 'Manjula'\n",
    "print(firstname)"
   ]
  },
  {
   "cell_type": "code",
   "execution_count": 9,
   "id": "b5caf81e-3e57-40ca-8ccc-3e4a23c53bb9",
   "metadata": {},
   "outputs": [
    {
     "ename": "SyntaxError",
     "evalue": "invalid decimal literal (3681614244.py, line 1)",
     "output_type": "error",
     "traceback": [
      "\u001b[1;36m  Cell \u001b[1;32mIn[9], line 1\u001b[1;36m\u001b[0m\n\u001b[1;33m    1Name = 'Sneha'\u001b[0m\n\u001b[1;37m    ^\u001b[0m\n\u001b[1;31mSyntaxError\u001b[0m\u001b[1;31m:\u001b[0m invalid decimal literal\n"
     ]
    }
   ],
   "source": [
    "1Name = 'Sneha'"
   ]
  },
  {
   "cell_type": "code",
   "execution_count": 11,
   "id": "9efe6678-786c-4570-b3e0-d7ac1f33a789",
   "metadata": {},
   "outputs": [
    {
     "name": "stdout",
     "output_type": "stream",
     "text": [
      "Sneha\n"
     ]
    }
   ],
   "source": [
    "Name1 = 'Sneha'\n",
    "print(Name1)"
   ]
  },
  {
   "cell_type": "code",
   "execution_count": 13,
   "id": "6ceab0d5-3609-425b-8215-bd974a7444d0",
   "metadata": {},
   "outputs": [
    {
     "ename": "SyntaxError",
     "evalue": "invalid syntax (1056902009.py, line 1)",
     "output_type": "error",
     "traceback": [
      "\u001b[1;36m  Cell \u001b[1;32mIn[13], line 1\u001b[1;36m\u001b[0m\n\u001b[1;33m    name@ = 'Gauri'\u001b[0m\n\u001b[1;37m          ^\u001b[0m\n\u001b[1;31mSyntaxError\u001b[0m\u001b[1;31m:\u001b[0m invalid syntax\n"
     ]
    }
   ],
   "source": [
    "name@ = 'Gauri'\n",
    "print(name@)"
   ]
  },
  {
   "cell_type": "code",
   "execution_count": 14,
   "id": "82fcac4c-214b-41bf-af77-37cb49987e89",
   "metadata": {},
   "outputs": [
    {
     "data": {
      "text/plain": [
       "str"
      ]
     },
     "execution_count": 14,
     "metadata": {},
     "output_type": "execute_result"
    }
   ],
   "source": [
    "type(Name1)"
   ]
  },
  {
   "cell_type": "code",
   "execution_count": 16,
   "id": "5bafcd26-8a66-4043-9fb4-96d2a2f2ed17",
   "metadata": {},
   "outputs": [
    {
     "name": "stdout",
     "output_type": "stream",
     "text": [
      "sneha angadi\n"
     ]
    }
   ],
   "source": [
    "fullname = 'sneha angadi'\n",
    "print(fullname)"
   ]
  },
  {
   "cell_type": "code",
   "execution_count": 17,
   "id": "1485787a-ade2-4a72-9ff5-cc1e917b44ea",
   "metadata": {},
   "outputs": [
    {
     "name": "stdout",
     "output_type": "stream",
     "text": [
      "Sneha Angadi\n"
     ]
    }
   ],
   "source": [
    "print(fullname.title())"
   ]
  },
  {
   "cell_type": "code",
   "execution_count": 18,
   "id": "885505b3-8d0d-41e2-877e-b6499c4ddf32",
   "metadata": {},
   "outputs": [
    {
     "name": "stdout",
     "output_type": "stream",
     "text": [
      "SNEHA ANGADI\n"
     ]
    }
   ],
   "source": [
    "print(fullname.upper())"
   ]
  },
  {
   "cell_type": "code",
   "execution_count": 19,
   "id": "eb93fa67-257a-4c5e-ba16-c1283bc36403",
   "metadata": {},
   "outputs": [
    {
     "name": "stdout",
     "output_type": "stream",
     "text": [
      "sneha angadi\n"
     ]
    }
   ],
   "source": [
    "print(fullname.lower())"
   ]
  },
  {
   "cell_type": "code",
   "execution_count": null,
   "id": "b2b8c07f-925f-44ee-a722-42ce8e7f9e93",
   "metadata": {},
   "outputs": [],
   "source": []
  }
 ],
 "metadata": {
  "kernelspec": {
   "display_name": "Python 3 (ipykernel)",
   "language": "python",
   "name": "python3"
  },
  "language_info": {
   "codemirror_mode": {
    "name": "ipython",
    "version": 3
   },
   "file_extension": ".py",
   "mimetype": "text/x-python",
   "name": "python",
   "nbconvert_exporter": "python",
   "pygments_lexer": "ipython3",
   "version": "3.11.7"
  }
 },
 "nbformat": 4,
 "nbformat_minor": 5
}
