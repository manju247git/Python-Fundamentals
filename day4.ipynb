{
 "cells": [
  {
   "cell_type": "code",
   "execution_count": null,
   "id": "e0422ac3-a36c-415f-859b-91e6083b932d",
   "metadata": {},
   "outputs": [],
   "source": [
    "#Introduction to List Datatype"
   ]
  },
  {
   "cell_type": "code",
   "execution_count": 2,
   "id": "7b10526d-c259-4371-9fd0-cd348058de88",
   "metadata": {},
   "outputs": [
    {
     "data": {
      "text/plain": [
       "list"
      ]
     },
     "execution_count": 2,
     "metadata": {},
     "output_type": "execute_result"
    }
   ],
   "source": [
    "Students = ['Anil','biswa','cleaton','dona','prakash','manya']\n",
    "type(Students)"
   ]
  },
  {
   "cell_type": "code",
   "execution_count": 4,
   "id": "791d4b87-99a1-4d94-9098-4efb6b1244e4",
   "metadata": {},
   "outputs": [
    {
     "name": "stdout",
     "output_type": "stream",
     "text": [
      "Biswa\n"
     ]
    }
   ],
   "source": [
    "print(Students[1].title())"
   ]
  },
  {
   "cell_type": "code",
   "execution_count": null,
   "id": "be772871-a914-44c3-a1f3-81edbe5faf0d",
   "metadata": {},
   "outputs": [],
   "source": [
    "#how to add elements to List"
   ]
  },
  {
   "cell_type": "code",
   "execution_count": 5,
   "id": "5e948290-5eb5-47de-9e43-5eefc14c0969",
   "metadata": {},
   "outputs": [
    {
     "name": "stdout",
     "output_type": "stream",
     "text": [
      "['Anil', 'biswa', 'cleaton', 'dona', 'prakash', 'manya', 'sneha']\n"
     ]
    }
   ],
   "source": [
    "Students.append('sneha')\n",
    "print(Students)"
   ]
  },
  {
   "cell_type": "code",
   "execution_count": 6,
   "id": "8603a976-a1cd-48fa-a31c-814cbc7f10d5",
   "metadata": {},
   "outputs": [
    {
     "name": "stdout",
     "output_type": "stream",
     "text": [
      "['Anil', 'biswa', 'cleaton', 'dona', 'hemant', 'prakash', 'manya', 'sneha']\n"
     ]
    }
   ],
   "source": [
    "Students.insert(4,'hemant')\n",
    "print(Students)"
   ]
  },
  {
   "cell_type": "code",
   "execution_count": null,
   "id": "1568eeec-568d-450f-8473-eba84b6258d4",
   "metadata": {},
   "outputs": [],
   "source": [
    "#How to modify elements in the List"
   ]
  },
  {
   "cell_type": "code",
   "execution_count": 8,
   "id": "2e1b934c-f501-485a-94e6-9c0c7ce8b5d6",
   "metadata": {},
   "outputs": [
    {
     "name": "stdout",
     "output_type": "stream",
     "text": [
      "['Anil', 'biswa', 'cleaton', 'dona', 'heena', 'prakash', 'manya', 'sneha']\n"
     ]
    }
   ],
   "source": [
    "Students[4] = 'heena'\n",
    "print(Students)"
   ]
  },
  {
   "cell_type": "code",
   "execution_count": null,
   "id": "53738a30-4774-4bc6-9e45-0e52ab62e1cc",
   "metadata": {},
   "outputs": [],
   "source": [
    "# How to delete elements in the List"
   ]
  },
  {
   "cell_type": "code",
   "execution_count": 9,
   "id": "f3b0e42c-d810-4028-84d1-18110e592179",
   "metadata": {},
   "outputs": [
    {
     "name": "stdout",
     "output_type": "stream",
     "text": [
      "['Anil', 'biswa', 'cleaton', 'heena', 'prakash', 'manya', 'sneha']\n"
     ]
    }
   ],
   "source": [
    "# Permanently delete the element\n",
    "del Students[3] # Delete Dona from the list\n",
    "print(Students)"
   ]
  },
  {
   "cell_type": "code",
   "execution_count": null,
   "id": "11d07622-35fc-4725-b982-49100e44aa34",
   "metadata": {
    "scrolled": true
   },
   "outputs": [],
   "source": []
  },
  {
   "cell_type": "code",
   "execution_count": null,
   "id": "8fa95831-60f5-455a-834e-446e20e4744f",
   "metadata": {},
   "outputs": [],
   "source": [
    "# Temporarily delete element from List \n",
    "# pop method will delete last element from the List"
   ]
  },
  {
   "cell_type": "code",
   "execution_count": 10,
   "id": "0f0a1e94-8a95-483b-8485-e3f629c3306c",
   "metadata": {},
   "outputs": [
    {
     "name": "stdout",
     "output_type": "stream",
     "text": [
      "Sneha\n"
     ]
    }
   ],
   "source": [
    "x = Students.pop()\n",
    "print(x.title())"
   ]
  },
  {
   "cell_type": "code",
   "execution_count": null,
   "id": "7fb5b371-c183-442e-93aa-c9a4b56f3653",
   "metadata": {},
   "outputs": [],
   "source": []
  }
 ],
 "metadata": {
  "kernelspec": {
   "display_name": "Python 3 (ipykernel)",
   "language": "python",
   "name": "python3"
  },
  "language_info": {
   "codemirror_mode": {
    "name": "ipython",
    "version": 3
   },
   "file_extension": ".py",
   "mimetype": "text/x-python",
   "name": "python",
   "nbconvert_exporter": "python",
   "pygments_lexer": "ipython3",
   "version": "3.11.7"
  }
 },
 "nbformat": 4,
 "nbformat_minor": 5
}
