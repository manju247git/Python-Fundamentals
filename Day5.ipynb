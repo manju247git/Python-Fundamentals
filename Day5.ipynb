{
 "cells": [
  {
   "cell_type": "code",
   "execution_count": null,
   "id": "1e8976af-ccb7-429b-91fc-f7d0132d0fa4",
   "metadata": {},
   "outputs": [],
   "source": [
    "Continuation of List Datatypes"
   ]
  },
  {
   "cell_type": "code",
   "execution_count": null,
   "id": "d060069d-1cce-4107-b32d-61f6ff40202b",
   "metadata": {},
   "outputs": [],
   "source": [
    "# organising List dataypes:"
   ]
  },
  {
   "cell_type": "code",
   "execution_count": 4,
   "id": "81dec101-71ae-47cc-a3d7-e330b62bc56a",
   "metadata": {},
   "outputs": [
    {
     "name": "stdout",
     "output_type": "stream",
     "text": [
      "['mango', 'banana', 'kiwi', 'guava', 'pineapple', 'apple']\n"
     ]
    }
   ],
   "source": [
    "fruits = ['mango','banana','kiwi','guava','pineapple','apple']\n",
    "print(fruits)"
   ]
  },
  {
   "cell_type": "code",
   "execution_count": 2,
   "id": "835b5674-dd5e-485f-816f-9eaf9677869c",
   "metadata": {},
   "outputs": [
    {
     "data": {
      "text/plain": [
       "list"
      ]
     },
     "execution_count": 2,
     "metadata": {},
     "output_type": "execute_result"
    }
   ],
   "source": [
    "type(fruits)"
   ]
  },
  {
   "cell_type": "code",
   "execution_count": null,
   "id": "25cacfa4-a210-455b-95f2-c3b181d7ed63",
   "metadata": {},
   "outputs": [],
   "source": [
    "# to organize list in alpabhetical order "
   ]
  },
  {
   "cell_type": "code",
   "execution_count": 5,
   "id": "885f7548-17f2-49e2-b8d2-a63b60ba4251",
   "metadata": {},
   "outputs": [
    {
     "name": "stdout",
     "output_type": "stream",
     "text": [
      "['apple', 'banana', 'guava', 'kiwi', 'mango', 'pineapple']\n"
     ]
    }
   ],
   "source": [
    "print(sorted(fruits)) # temporary sort the elements in the List"
   ]
  },
  {
   "cell_type": "code",
   "execution_count": 6,
   "id": "1da50d6e-48a7-46cf-a146-cb6e65e8b2dc",
   "metadata": {},
   "outputs": [
    {
     "name": "stdout",
     "output_type": "stream",
     "text": [
      "['mango', 'banana', 'kiwi', 'guava', 'pineapple', 'apple']\n"
     ]
    }
   ],
   "source": [
    "print(fruits)"
   ]
  },
  {
   "cell_type": "code",
   "execution_count": 7,
   "id": "da97b71e-5d18-4606-a8dd-34bb50467d49",
   "metadata": {},
   "outputs": [],
   "source": [
    "fruits.sort()  # permanently sort elements in the list"
   ]
  },
  {
   "cell_type": "code",
   "execution_count": 8,
   "id": "2b433638-b94f-4b23-9445-7e3e9a8aaae2",
   "metadata": {},
   "outputs": [
    {
     "name": "stdout",
     "output_type": "stream",
     "text": [
      "['apple', 'banana', 'guava', 'kiwi', 'mango', 'pineapple']\n"
     ]
    }
   ],
   "source": [
    "print(fruits)"
   ]
  },
  {
   "cell_type": "code",
   "execution_count": 10,
   "id": "c7e7668d-dab0-42b3-8c25-94a29360a2f6",
   "metadata": {},
   "outputs": [],
   "source": [
    "fruits.insert(1,'apricot') # add 'apricot' at index 1."
   ]
  },
  {
   "cell_type": "code",
   "execution_count": 11,
   "id": "2a1d91ae-141b-4e74-abdb-407246b93df3",
   "metadata": {},
   "outputs": [
    {
     "name": "stdout",
     "output_type": "stream",
     "text": [
      "['apple', 'apricot', 'banana', 'guava', 'kiwi', 'mango', 'pineapple']\n"
     ]
    }
   ],
   "source": [
    "print(fruits)"
   ]
  },
  {
   "cell_type": "code",
   "execution_count": 12,
   "id": "d8503205-2916-4267-a163-02548efcb073",
   "metadata": {},
   "outputs": [],
   "source": [
    "fruits.sort() # to sort after adding apricot"
   ]
  },
  {
   "cell_type": "code",
   "execution_count": 13,
   "id": "936b6ab0-1ebe-4dbe-b422-ff717da41b33",
   "metadata": {},
   "outputs": [
    {
     "name": "stdout",
     "output_type": "stream",
     "text": [
      "['apple', 'apricot', 'banana', 'guava', 'kiwi', 'mango', 'pineapple']\n"
     ]
    }
   ],
   "source": [
    "print(fruits)"
   ]
  },
  {
   "cell_type": "code",
   "execution_count": null,
   "id": "10f90599-075a-4047-9ff7-64f4c10134b3",
   "metadata": {},
   "outputs": [],
   "source": [
    "# to reverse elements in List"
   ]
  },
  {
   "cell_type": "code",
   "execution_count": 14,
   "id": "21faac72-e2ef-4eb8-a5f4-d4a2a43fcfcd",
   "metadata": {},
   "outputs": [
    {
     "name": "stdout",
     "output_type": "stream",
     "text": [
      "['pineapple', 'mango', 'kiwi', 'guava', 'banana', 'apricot', 'apple']\n"
     ]
    }
   ],
   "source": [
    "fruits.reverse()\n",
    "print(fruits)"
   ]
  },
  {
   "cell_type": "code",
   "execution_count": null,
   "id": "0885a786-26ac-4dd4-bd0b-67b9bc804564",
   "metadata": {},
   "outputs": [],
   "source": [
    "# to find total count of elements in the list"
   ]
  },
  {
   "cell_type": "code",
   "execution_count": 15,
   "id": "768643f2-91af-4096-9838-25247e3323dc",
   "metadata": {},
   "outputs": [
    {
     "data": {
      "text/plain": [
       "7"
      ]
     },
     "execution_count": 15,
     "metadata": {},
     "output_type": "execute_result"
    }
   ],
   "source": [
    "len(fruits)"
   ]
  },
  {
   "cell_type": "code",
   "execution_count": null,
   "id": "d56db134-89b7-4cd4-b10e-d0abf9244de8",
   "metadata": {},
   "outputs": [],
   "source": []
  },
  {
   "cell_type": "code",
   "execution_count": null,
   "id": "9e03db8b-5e86-4075-b302-12057bebd92f",
   "metadata": {},
   "outputs": [],
   "source": [
    "# Introduction to slicing"
   ]
  },
  {
   "cell_type": "code",
   "execution_count": 18,
   "id": "d163c8c3-ec58-4086-b268-887d205aff7b",
   "metadata": {},
   "outputs": [
    {
     "name": "stdout",
     "output_type": "stream",
     "text": [
      "['pineapple', 'mango']\n"
     ]
    }
   ],
   "source": [
    "print(fruits[0:2]) # to print only elements at index 0 and 1"
   ]
  },
  {
   "cell_type": "code",
   "execution_count": 19,
   "id": "b14dbcb8-5659-43b8-81a1-68948d03ee30",
   "metadata": {},
   "outputs": [
    {
     "name": "stdout",
     "output_type": "stream",
     "text": [
      "['kiwi', 'guava']\n"
     ]
    }
   ],
   "source": [
    "print(fruits[2:4]) # to print only elements at index 2 and 3"
   ]
  },
  {
   "cell_type": "code",
   "execution_count": 20,
   "id": "6230ecf3-b5db-4717-9394-b3c15e844261",
   "metadata": {},
   "outputs": [
    {
     "name": "stdout",
     "output_type": "stream",
     "text": [
      "['pineapple', 'kiwi', 'banana', 'apple']\n"
     ]
    }
   ],
   "source": [
    "print(fruits[0:9:2]) # to print with step count as 2"
   ]
  },
  {
   "cell_type": "code",
   "execution_count": 21,
   "id": "9a3625c4-13ba-45ab-8554-29ea2a1f762d",
   "metadata": {},
   "outputs": [
    {
     "name": "stdout",
     "output_type": "stream",
     "text": [
      "['pineapple', 'kiwi', 'banana']\n"
     ]
    }
   ],
   "source": [
    "print(fruits[0:6:2]) # to print with start count : 0 , stop count :6 and step count as 2"
   ]
  },
  {
   "cell_type": "code",
   "execution_count": null,
   "id": "e1886e15-2ce4-48d9-9b82-05fc073d7d7d",
   "metadata": {},
   "outputs": [],
   "source": []
  }
 ],
 "metadata": {
  "kernelspec": {
   "display_name": "Python 3 (ipykernel)",
   "language": "python",
   "name": "python3"
  },
  "language_info": {
   "codemirror_mode": {
    "name": "ipython",
    "version": 3
   },
   "file_extension": ".py",
   "mimetype": "text/x-python",
   "name": "python",
   "nbconvert_exporter": "python",
   "pygments_lexer": "ipython3",
   "version": "3.11.7"
  }
 },
 "nbformat": 4,
 "nbformat_minor": 5
}
