{
 "cells": [
  {
   "cell_type": "code",
   "execution_count": 1,
   "id": "4d853be1-a576-44cf-bf51-22671290b71a",
   "metadata": {},
   "outputs": [
    {
     "name": "stdout",
     "output_type": "stream",
     "text": [
      "Hello! Welcome to the python programming world.\n"
     ]
    }
   ],
   "source": [
    "print(\"Hello! Welcome to the python programming world.\")"
   ]
  },
  {
   "cell_type": "code",
   "execution_count": null,
   "id": "cc02e7bb-6c40-412d-84da-abf9b7dbf11d",
   "metadata": {},
   "outputs": [],
   "source": []
  }
 ],
 "metadata": {
  "kernelspec": {
   "display_name": "Python 3 (ipykernel)",
   "language": "python",
   "name": "python3"
  },
  "language_info": {
   "codemirror_mode": {
    "name": "ipython",
    "version": 3
   },
   "file_extension": ".py",
   "mimetype": "text/x-python",
   "name": "python",
   "nbconvert_exporter": "python",
   "pygments_lexer": "ipython3",
   "version": "3.11.7"
  }
 },
 "nbformat": 4,
 "nbformat_minor": 5
}
