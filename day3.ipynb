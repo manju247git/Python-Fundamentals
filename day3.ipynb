{
 "cells": [
  {
   "cell_type": "code",
   "execution_count": null,
   "id": "73f346b4-8a1a-490d-98b2-a8c99be9b1fe",
   "metadata": {},
   "outputs": [],
   "source": [
    "#Continuation of Strings"
   ]
  },
  {
   "cell_type": "code",
   "execution_count": 14,
   "id": "2ae25246-e40e-436b-be2a-2b047fb393b7",
   "metadata": {},
   "outputs": [
    {
     "name": "stdout",
     "output_type": "stream",
     "text": [
      "My name is Manjula Patil.\n"
     ]
    }
   ],
   "source": [
    "firstname = 'Manjula'\n",
    "lastname = 'patil'\n",
    "fullname = f\"{firstname} {lastname}\"\n",
    "message = f\"My name is {fullname.title()}.\"\n",
    "print(message)"
   ]
  },
  {
   "cell_type": "code",
   "execution_count": null,
   "id": "1f8a910f-6403-4565-90db-e578a281e9e8",
   "metadata": {},
   "outputs": [],
   "source": [
    "#Adding new line delimiter(\\n) to strings"
   ]
  },
  {
   "cell_type": "code",
   "execution_count": 3,
   "id": "c0a268ac-6f36-4096-b6ad-f6695e688141",
   "metadata": {},
   "outputs": [
    {
     "name": "stdout",
     "output_type": "stream",
     "text": [
      "My fav fruits are :applebananamango\n"
     ]
    }
   ],
   "source": [
    "print(\"My fav fruits are :applebananamango\")"
   ]
  },
  {
   "cell_type": "code",
   "execution_count": 6,
   "id": "a2f67340-7db9-4c87-a044-401908fbb959",
   "metadata": {},
   "outputs": [
    {
     "name": "stdout",
     "output_type": "stream",
     "text": [
      "My fav fruits are :\n",
      "apple\n",
      "banana\n",
      "mango\n"
     ]
    }
   ],
   "source": [
    "print(\"My fav fruits are :\\napple\\nbanana\\nmango\")"
   ]
  },
  {
   "cell_type": "code",
   "execution_count": null,
   "id": "6b4c2b7b-fcf8-4aed-9e81-234923a3198b",
   "metadata": {},
   "outputs": [],
   "source": [
    "#Adding \\t white spaces to strings"
   ]
  },
  {
   "cell_type": "code",
   "execution_count": 4,
   "id": "16bb81ef-ce27-4ea9-96d5-d547f84e0010",
   "metadata": {},
   "outputs": [
    {
     "name": "stdout",
     "output_type": "stream",
     "text": [
      "My fav fruits are :\tApple\tBanana\tMango\n"
     ]
    }
   ],
   "source": [
    "print(\"My fav fruits are :\\tApple\\tBanana\\tMango\")"
   ]
  },
  {
   "cell_type": "code",
   "execution_count": 10,
   "id": "5790ba38-da8c-4c0f-b7f9-b2ce7baeea9d",
   "metadata": {},
   "outputs": [
    {
     "data": {
      "text/plain": [
       "'Tanay'"
      ]
     },
     "execution_count": 10,
     "metadata": {},
     "output_type": "execute_result"
    }
   ],
   "source": [
    "Name = \"  Tanay\"\n",
    "Name.lstrip()"
   ]
  },
  {
   "cell_type": "code",
   "execution_count": 11,
   "id": "20687f62-ad4a-467e-8aeb-fde4824e097a",
   "metadata": {},
   "outputs": [
    {
     "data": {
      "text/plain": [
       "'Tanay'"
      ]
     },
     "execution_count": 11,
     "metadata": {},
     "output_type": "execute_result"
    }
   ],
   "source": [
    "Name = \"Tanay   \"\n",
    "Name.rstrip()"
   ]
  },
  {
   "cell_type": "code",
   "execution_count": 12,
   "id": "5f9eb7f4-2fbd-43c5-841c-b1493675f1a3",
   "metadata": {},
   "outputs": [
    {
     "data": {
      "text/plain": [
       "'Tanay'"
      ]
     },
     "execution_count": 12,
     "metadata": {},
     "output_type": "execute_result"
    }
   ],
   "source": [
    "Name = \"    Tanay   \"\n",
    "Name.strip()"
   ]
  },
  {
   "cell_type": "code",
   "execution_count": null,
   "id": "1efd86c8-6a05-45a7-ae0a-c9b9e5e1677f",
   "metadata": {},
   "outputs": [],
   "source": []
  }
 ],
 "metadata": {
  "kernelspec": {
   "display_name": "Python 3 (ipykernel)",
   "language": "python",
   "name": "python3"
  },
  "language_info": {
   "codemirror_mode": {
    "name": "ipython",
    "version": 3
   },
   "file_extension": ".py",
   "mimetype": "text/x-python",
   "name": "python",
   "nbconvert_exporter": "python",
   "pygments_lexer": "ipython3",
   "version": "3.11.7"
  }
 },
 "nbformat": 4,
 "nbformat_minor": 5
}
